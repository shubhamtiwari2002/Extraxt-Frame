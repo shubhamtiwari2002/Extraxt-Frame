{
 "cells": [
  {
   "cell_type": "code",
   "execution_count": 1,
   "id": "7fa1325d",
   "metadata": {},
   "outputs": [],
   "source": [
    "import os\n",
    "import numpy as np\n",
    "import cv2\n",
    "from glob import glob\n",
    "\n"
   ]
  },
  {
   "cell_type": "code",
   "execution_count": 2,
   "id": "bbe6006a",
   "metadata": {},
   "outputs": [],
   "source": [
    "def create_dir(path):\n",
    "    try:\n",
    "        if not os.path.exists(path):\n",
    "            os.makedirs(path)\n",
    "    except OSError:\n",
    "        print(f\"ERROR : CREATING DIRECTORY WITH NAME{path}\")"
   ]
  },
  {
   "cell_type": "code",
   "execution_count": 3,
   "id": "1564a62f",
   "metadata": {},
   "outputs": [],
   "source": [
    "def save_frame(video_path, save_dir):\n",
    "    name =  video_path.split(\"/\")[-1].split(\".\")[0]\n",
    "    save_path= os.path.join(save_dir, name )\n",
    "    create_dir(save_path)\n",
    "    \n",
    "    cap = cv2.VideoCapture(video_path)\n",
    "    idx=0\n",
    "    while True:\n",
    "        ret, frame = cap.read()\n",
    "        if ret == False:\n",
    "            cap.release()\n",
    "            break\n",
    "        cv2.imwrite(f\"{save_path}/{idx}.png\", frame)\n",
    "        idx+=1\n",
    "                \n",
    "                "
   ]
  },
  {
   "cell_type": "code",
   "execution_count": 4,
   "id": "cb1a6b35",
   "metadata": {},
   "outputs": [],
   "source": [
    "if __name__ == \"__main__\":\n",
    "    video_paths = glob(\"videos/*\")\n",
    "    save_dir = \"save\"\n",
    "    \n",
    "    for path in video_paths:\n",
    "        save_frame(path, save_dir)\n",
    "        \n",
    "    \n",
    "    "
   ]
  },
  {
   "cell_type": "code",
   "execution_count": null,
   "id": "e369305d",
   "metadata": {},
   "outputs": [],
   "source": []
  }
 ],
 "metadata": {
  "kernelspec": {
   "display_name": "Python 3 (ipykernel)",
   "language": "python",
   "name": "python3"
  },
  "language_info": {
   "codemirror_mode": {
    "name": "ipython",
    "version": 3
   },
   "file_extension": ".py",
   "mimetype": "text/x-python",
   "name": "python",
   "nbconvert_exporter": "python",
   "pygments_lexer": "ipython3",
   "version": "3.10.9"
  }
 },
 "nbformat": 4,
 "nbformat_minor": 5
}
